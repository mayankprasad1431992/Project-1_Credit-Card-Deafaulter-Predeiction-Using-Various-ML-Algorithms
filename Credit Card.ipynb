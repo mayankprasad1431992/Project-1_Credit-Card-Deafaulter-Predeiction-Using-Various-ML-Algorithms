{
  "cells": [
    {
      "metadata": {
        "trusted": true
      },
      "cell_type": "code",
      "source": "import pandas as pd\nimport numpy as np\nimport matplotlib.pyplot as plt\nimport seaborn as sns\nfrom sklearn.model_selection import train_test_split\nfrom sklearn.preprocessing import StandardScaler\nfrom sklearn.linear_model import LogisticRegression\nfrom sklearn.metrics import classification_report\nfrom sklearn.metrics import confusion_matrix\nfrom sklearn.metrics import accuracy_score\nfrom sklearn.tree import DecisionTreeClassifier\nfrom sklearn.ensemble import RandomForestClassifier\nfrom sklearn.ensemble import BaggingClassifier\nfrom sklearn import svm\nfrom sklearn.neighbors import KNeighborsClassifier",
      "execution_count": 1,
      "outputs": []
    },
    {
      "metadata": {
        "trusted": true
      },
      "cell_type": "code",
      "source": "credit = pd.read_csv('Credit_Card.csv')",
      "execution_count": 2,
      "outputs": []
    },
    {
      "metadata": {
        "trusted": true
      },
      "cell_type": "code",
      "source": "credit.head()",
      "execution_count": 3,
      "outputs": [
        {
          "output_type": "execute_result",
          "execution_count": 3,
          "data": {
            "text/html": "<div>\n<style scoped>\n    .dataframe tbody tr th:only-of-type {\n        vertical-align: middle;\n    }\n\n    .dataframe tbody tr th {\n        vertical-align: top;\n    }\n\n    .dataframe thead th {\n        text-align: right;\n    }\n</style>\n<table border=\"1\" class=\"dataframe\">\n  <thead>\n    <tr style=\"text-align: right;\">\n      <th></th>\n      <th>clientid</th>\n      <th>income</th>\n      <th>age</th>\n      <th>loan</th>\n      <th>LTI</th>\n      <th>default10yr</th>\n    </tr>\n  </thead>\n  <tbody>\n    <tr>\n      <th>0</th>\n      <td>1</td>\n      <td>66155.93</td>\n      <td>59.02</td>\n      <td>8106.53</td>\n      <td>0.123</td>\n      <td>0</td>\n    </tr>\n    <tr>\n      <th>1</th>\n      <td>2</td>\n      <td>34415.15</td>\n      <td>48.12</td>\n      <td>6564.75</td>\n      <td>0.191</td>\n      <td>0</td>\n    </tr>\n    <tr>\n      <th>2</th>\n      <td>3</td>\n      <td>57317.17</td>\n      <td>63.11</td>\n      <td>8020.95</td>\n      <td>0.140</td>\n      <td>0</td>\n    </tr>\n    <tr>\n      <th>3</th>\n      <td>4</td>\n      <td>42709.53</td>\n      <td>45.75</td>\n      <td>6103.64</td>\n      <td>0.143</td>\n      <td>0</td>\n    </tr>\n    <tr>\n      <th>4</th>\n      <td>5</td>\n      <td>66952.69</td>\n      <td>18.58</td>\n      <td>8770.10</td>\n      <td>0.131</td>\n      <td>1</td>\n    </tr>\n  </tbody>\n</table>\n</div>",
            "text/plain": "   clientid    income    age     loan    LTI  default10yr\n0         1  66155.93  59.02  8106.53  0.123            0\n1         2  34415.15  48.12  6564.75  0.191            0\n2         3  57317.17  63.11  8020.95  0.140            0\n3         4  42709.53  45.75  6103.64  0.143            0\n4         5  66952.69  18.58  8770.10  0.131            1"
          },
          "metadata": {}
        }
      ]
    },
    {
      "metadata": {
        "trusted": true
      },
      "cell_type": "code",
      "source": "credit.shape",
      "execution_count": 4,
      "outputs": [
        {
          "output_type": "execute_result",
          "execution_count": 4,
          "data": {
            "text/plain": "(2000, 6)"
          },
          "metadata": {}
        }
      ]
    },
    {
      "metadata": {
        "trusted": true
      },
      "cell_type": "code",
      "source": "credit.info()",
      "execution_count": 5,
      "outputs": [
        {
          "output_type": "stream",
          "text": "<class 'pandas.core.frame.DataFrame'>\nRangeIndex: 2000 entries, 0 to 1999\nData columns (total 6 columns):\nclientid       2000 non-null int64\nincome         2000 non-null float64\nage            2000 non-null float64\nloan           2000 non-null float64\nLTI            2000 non-null float64\ndefault10yr    2000 non-null int64\ndtypes: float64(4), int64(2)\nmemory usage: 93.8 KB\n",
          "name": "stdout"
        }
      ]
    },
    {
      "metadata": {
        "trusted": true
      },
      "cell_type": "code",
      "source": "credit.isnull().sum()",
      "execution_count": 6,
      "outputs": [
        {
          "output_type": "execute_result",
          "execution_count": 6,
          "data": {
            "text/plain": "clientid       0\nincome         0\nage            0\nloan           0\nLTI            0\ndefault10yr    0\ndtype: int64"
          },
          "metadata": {}
        }
      ]
    },
    {
      "metadata": {
        "trusted": true
      },
      "cell_type": "code",
      "source": "sns.heatmap(credit.isnull());",
      "execution_count": 7,
      "outputs": [
        {
          "output_type": "display_data",
          "data": {
            "image/png": "[encoded data removed]",
            "text/plain": "<Figure size 432x288 with 2 Axes>"
          },
          "metadata": {
            "needs_background": "light"
          }
        }
      ]
    },
    {
      "metadata": {
        "trusted": true
      },
      "cell_type": "code",
      "source": "credit.default10yr.value_counts()",
      "execution_count": 8,
      "outputs": [
        {
          "output_type": "execute_result",
          "execution_count": 8,
          "data": {
            "text/plain": "0    1717\n1     283\nName: default10yr, dtype: int64"
          },
          "metadata": {}
        }
      ]
    },
    {
      "metadata": {
        "trusted": true
      },
      "cell_type": "code",
      "source": "credit.head()",
      "execution_count": 9,
      "outputs": [
        {
          "output_type": "execute_result",
          "execution_count": 9,
          "data": {
            "text/html": "<div>\n<style scoped>\n    .dataframe tbody tr th:only-of-type {\n        vertical-align: middle;\n    }\n\n    .dataframe tbody tr th {\n        vertical-align: top;\n    }\n\n    .dataframe thead th {\n        text-align: right;\n    }\n</style>\n<table border=\"1\" class=\"dataframe\">\n  <thead>\n    <tr style=\"text-align: right;\">\n      <th></th>\n      <th>clientid</th>\n      <th>income</th>\n      <th>age</th>\n      <th>loan</th>\n      <th>LTI</th>\n      <th>default10yr</th>\n    </tr>\n  </thead>\n  <tbody>\n    <tr>\n      <th>0</th>\n      <td>1</td>\n      <td>66155.93</td>\n      <td>59.02</td>\n      <td>8106.53</td>\n      <td>0.123</td>\n      <td>0</td>\n    </tr>\n    <tr>\n      <th>1</th>\n      <td>2</td>\n      <td>34415.15</td>\n      <td>48.12</td>\n      <td>6564.75</td>\n      <td>0.191</td>\n      <td>0</td>\n    </tr>\n    <tr>\n      <th>2</th>\n      <td>3</td>\n      <td>57317.17</td>\n      <td>63.11</td>\n      <td>8020.95</td>\n      <td>0.140</td>\n      <td>0</td>\n    </tr>\n    <tr>\n      <th>3</th>\n      <td>4</td>\n      <td>42709.53</td>\n      <td>45.75</td>\n      <td>6103.64</td>\n      <td>0.143</td>\n      <td>0</td>\n    </tr>\n    <tr>\n      <th>4</th>\n      <td>5</td>\n      <td>66952.69</td>\n      <td>18.58</td>\n      <td>8770.10</td>\n      <td>0.131</td>\n      <td>1</td>\n    </tr>\n  </tbody>\n</table>\n</div>",
            "text/plain": "   clientid    income    age     loan    LTI  default10yr\n0         1  66155.93  59.02  8106.53  0.123            0\n1         2  34415.15  48.12  6564.75  0.191            0\n2         3  57317.17  63.11  8020.95  0.140            0\n3         4  42709.53  45.75  6103.64  0.143            0\n4         5  66952.69  18.58  8770.10  0.131            1"
          },
          "metadata": {}
        }
      ]
    },
    {
      "metadata": {
        "trusted": true
      },
      "cell_type": "code",
      "source": "credit = credit.drop('clientid',axis=1)",
      "execution_count": 10,
      "outputs": []
    },
    {
      "metadata": {
        "trusted": true
      },
      "cell_type": "code",
      "source": "credit.head()",
      "execution_count": 11,
      "outputs": [
        {
          "output_type": "execute_result",
          "execution_count": 11,
          "data": {
            "text/html": "<div>\n<style scoped>\n    .dataframe tbody tr th:only-of-type {\n        vertical-align: middle;\n    }\n\n    .dataframe tbody tr th {\n        vertical-align: top;\n    }\n\n    .dataframe thead th {\n        text-align: right;\n    }\n</style>\n<table border=\"1\" class=\"dataframe\">\n  <thead>\n    <tr style=\"text-align: right;\">\n      <th></th>\n      <th>income</th>\n      <th>age</th>\n      <th>loan</th>\n      <th>LTI</th>\n      <th>default10yr</th>\n    </tr>\n  </thead>\n  <tbody>\n    <tr>\n      <th>0</th>\n      <td>66155.93</td>\n      <td>59.02</td>\n      <td>8106.53</td>\n      <td>0.123</td>\n      <td>0</td>\n    </tr>\n    <tr>\n      <th>1</th>\n      <td>34415.15</td>\n      <td>48.12</td>\n      <td>6564.75</td>\n      <td>0.191</td>\n      <td>0</td>\n    </tr>\n    <tr>\n      <th>2</th>\n      <td>57317.17</td>\n      <td>63.11</td>\n      <td>8020.95</td>\n      <td>0.140</td>\n      <td>0</td>\n    </tr>\n    <tr>\n      <th>3</th>\n      <td>42709.53</td>\n      <td>45.75</td>\n      <td>6103.64</td>\n      <td>0.143</td>\n      <td>0</td>\n    </tr>\n    <tr>\n      <th>4</th>\n      <td>66952.69</td>\n      <td>18.58</td>\n      <td>8770.10</td>\n      <td>0.131</td>\n      <td>1</td>\n    </tr>\n  </tbody>\n</table>\n</div>",
            "text/plain": "     income    age     loan    LTI  default10yr\n0  66155.93  59.02  8106.53  0.123            0\n1  34415.15  48.12  6564.75  0.191            0\n2  57317.17  63.11  8020.95  0.140            0\n3  42709.53  45.75  6103.64  0.143            0\n4  66952.69  18.58  8770.10  0.131            1"
          },
          "metadata": {}
        }
      ]
    },
    {
      "metadata": {
        "trusted": true
      },
      "cell_type": "code",
      "source": "plt.figure(figsize=(15,8))\nplt.subplot(2,2,1)\nsns.distplot(credit.income, bins=15);\nplt.subplot(2,2,2)\nsns.distplot(credit.age, bins=15);\nplt.subplot(2,2,3)\nsns.distplot(credit.loan, bins=15);\nplt.subplot(2,2,4)\nsns.distplot(credit.LTI, bins=15);",
      "execution_count": 12,
      "outputs": [
        {
          "output_type": "stream",
          "text": "/home/nbuser/anaconda3_501/lib/python3.6/site-packages/scipy/stats/stats.py:1713: FutureWarning: Using a non-tuple sequence for multidimensional indexing is deprecated; use `arr[tuple(seq)]` instead of `arr[seq]`. In the future this will be interpreted as an array index, `arr[np.array(seq)]`, which will result either in an error or a different result.\n  return np.add.reduce(sorted[indexer] * weights, axis=axis) / sumval\n",
          "name": "stderr"
        },
        {
          "output_type": "display_data",
          "data": {
            "image/png": "[encoded data removed]",
            "text/plain": "<Figure size 1080x576 with 4 Axes>"
          },
          "metadata": {
            "needs_background": "light"
          }
        }
      ]
    },
    {
      "metadata": {
        "trusted": true
      },
      "cell_type": "code",
      "source": "credit.describe()",
      "execution_count": 13,
      "outputs": [
        {
          "output_type": "execute_result",
          "execution_count": 13,
          "data": {
            "text/html": "<div>\n<style scoped>\n    .dataframe tbody tr th:only-of-type {\n        vertical-align: middle;\n    }\n\n    .dataframe tbody tr th {\n        vertical-align: top;\n    }\n\n    .dataframe thead th {\n        text-align: right;\n    }\n</style>\n<table border=\"1\" class=\"dataframe\">\n  <thead>\n    <tr style=\"text-align: right;\">\n      <th></th>\n      <th>income</th>\n      <th>age</th>\n      <th>loan</th>\n      <th>LTI</th>\n      <th>default10yr</th>\n    </tr>\n  </thead>\n  <tbody>\n    <tr>\n      <th>count</th>\n      <td>2000.000000</td>\n      <td>2000.000000</td>\n      <td>2000.000000</td>\n      <td>2000.000000</td>\n      <td>2000.000000</td>\n    </tr>\n    <tr>\n      <th>mean</th>\n      <td>45331.599930</td>\n      <td>40.927245</td>\n      <td>4444.369635</td>\n      <td>0.098392</td>\n      <td>0.141500</td>\n    </tr>\n    <tr>\n      <th>std</th>\n      <td>14326.327142</td>\n      <td>13.262516</td>\n      <td>3045.409995</td>\n      <td>0.057619</td>\n      <td>0.348624</td>\n    </tr>\n    <tr>\n      <th>min</th>\n      <td>20014.490000</td>\n      <td>18.060000</td>\n      <td>1.380000</td>\n      <td>0.000000</td>\n      <td>0.000000</td>\n    </tr>\n    <tr>\n      <th>25%</th>\n      <td>32796.457500</td>\n      <td>29.060000</td>\n      <td>1939.705000</td>\n      <td>0.048000</td>\n      <td>0.000000</td>\n    </tr>\n    <tr>\n      <th>50%</th>\n      <td>45789.120000</td>\n      <td>41.380000</td>\n      <td>3974.720000</td>\n      <td>0.099500</td>\n      <td>0.000000</td>\n    </tr>\n    <tr>\n      <th>75%</th>\n      <td>57791.285000</td>\n      <td>52.600000</td>\n      <td>6432.407500</td>\n      <td>0.148000</td>\n      <td>0.000000</td>\n    </tr>\n    <tr>\n      <th>max</th>\n      <td>69995.690000</td>\n      <td>63.970000</td>\n      <td>13766.050000</td>\n      <td>0.200000</td>\n      <td>1.000000</td>\n    </tr>\n  </tbody>\n</table>\n</div>",
            "text/plain": "             income          age          loan          LTI  default10yr\ncount   2000.000000  2000.000000   2000.000000  2000.000000  2000.000000\nmean   45331.599930    40.927245   4444.369635     0.098392     0.141500\nstd    14326.327142    13.262516   3045.409995     0.057619     0.348624\nmin    20014.490000    18.060000      1.380000     0.000000     0.000000\n25%    32796.457500    29.060000   1939.705000     0.048000     0.000000\n50%    45789.120000    41.380000   3974.720000     0.099500     0.000000\n75%    57791.285000    52.600000   6432.407500     0.148000     0.000000\nmax    69995.690000    63.970000  13766.050000     0.200000     1.000000"
          },
          "metadata": {}
        }
      ]
    },
    {
      "metadata": {
        "trusted": true
      },
      "cell_type": "code",
      "source": "credit.loan.hist();",
      "execution_count": 14,
      "outputs": [
        {
          "output_type": "display_data",
          "data": {
            "image/png": "[encoded data removed]",
            "text/plain": "<Figure size 432x288 with 1 Axes>"
          },
          "metadata": {
            "needs_background": "light"
          }
        }
      ]
    },
    {
      "metadata": {
        "trusted": true
      },
      "cell_type": "code",
      "source": "sns.heatmap(credit.corr(),annot=True);",
      "execution_count": 15,
      "outputs": [
        {
          "output_type": "display_data",
          "data": {
            "image/png": "[encoded data removed]",
            "text/plain": "<Figure size 432x288 with 2 Axes>"
          },
          "metadata": {
            "needs_background": "light"
          }
        }
      ]
    },
    {
      "metadata": {
        "trusted": true
      },
      "cell_type": "code",
      "source": "credit.head()",
      "execution_count": 16,
      "outputs": [
        {
          "output_type": "execute_result",
          "execution_count": 16,
          "data": {
            "text/html": "<div>\n<style scoped>\n    .dataframe tbody tr th:only-of-type {\n        vertical-align: middle;\n    }\n\n    .dataframe tbody tr th {\n        vertical-align: top;\n    }\n\n    .dataframe thead th {\n        text-align: right;\n    }\n</style>\n<table border=\"1\" class=\"dataframe\">\n  <thead>\n    <tr style=\"text-align: right;\">\n      <th></th>\n      <th>income</th>\n      <th>age</th>\n      <th>loan</th>\n      <th>LTI</th>\n      <th>default10yr</th>\n    </tr>\n  </thead>\n  <tbody>\n    <tr>\n      <th>0</th>\n      <td>66155.93</td>\n      <td>59.02</td>\n      <td>8106.53</td>\n      <td>0.123</td>\n      <td>0</td>\n    </tr>\n    <tr>\n      <th>1</th>\n      <td>34415.15</td>\n      <td>48.12</td>\n      <td>6564.75</td>\n      <td>0.191</td>\n      <td>0</td>\n    </tr>\n    <tr>\n      <th>2</th>\n      <td>57317.17</td>\n      <td>63.11</td>\n      <td>8020.95</td>\n      <td>0.140</td>\n      <td>0</td>\n    </tr>\n    <tr>\n      <th>3</th>\n      <td>42709.53</td>\n      <td>45.75</td>\n      <td>6103.64</td>\n      <td>0.143</td>\n      <td>0</td>\n    </tr>\n    <tr>\n      <th>4</th>\n      <td>66952.69</td>\n      <td>18.58</td>\n      <td>8770.10</td>\n      <td>0.131</td>\n      <td>1</td>\n    </tr>\n  </tbody>\n</table>\n</div>",
            "text/plain": "     income    age     loan    LTI  default10yr\n0  66155.93  59.02  8106.53  0.123            0\n1  34415.15  48.12  6564.75  0.191            0\n2  57317.17  63.11  8020.95  0.140            0\n3  42709.53  45.75  6103.64  0.143            0\n4  66952.69  18.58  8770.10  0.131            1"
          },
          "metadata": {}
        }
      ]
    },
    {
      "metadata": {
        "trusted": true
      },
      "cell_type": "code",
      "source": "y = credit['default10yr']\nX = credit.drop(['default10yr'], axis=1)",
      "execution_count": 17,
      "outputs": []
    },
    {
      "metadata": {
        "trusted": true
      },
      "cell_type": "code",
      "source": "X_train, X_test, y_train, y_test = train_test_split(X,y,test_size=0.2, random_state=100)",
      "execution_count": 18,
      "outputs": []
    },
    {
      "metadata": {
        "trusted": true
      },
      "cell_type": "code",
      "source": "sc = StandardScaler()\nX_train = sc.fit_transform(X_train)\nX_test = sc.transform(X_test)",
      "execution_count": 19,
      "outputs": []
    },
    {
      "metadata": {},
      "cell_type": "markdown",
      "source": "## Logistic Model"
    },
    {
      "metadata": {
        "trusted": true
      },
      "cell_type": "code",
      "source": "model_logistic = LogisticRegression()",
      "execution_count": 20,
      "outputs": []
    },
    {
      "metadata": {
        "trusted": true
      },
      "cell_type": "code",
      "source": "model_logistic.fit(X_train,y_train)",
      "execution_count": 21,
      "outputs": [
        {
          "output_type": "stream",
          "text": "/home/nbuser/anaconda3_501/lib/python3.6/site-packages/sklearn/linear_model/logistic.py:433: FutureWarning: Default solver will be changed to 'lbfgs' in 0.22. Specify a solver to silence this warning.\n  FutureWarning)\n",
          "name": "stderr"
        },
        {
          "output_type": "execute_result",
          "execution_count": 21,
          "data": {
            "text/plain": "LogisticRegression(C=1.0, class_weight=None, dual=False, fit_intercept=True,\n          intercept_scaling=1, max_iter=100, multi_class='warn',\n          n_jobs=None, penalty='l2', random_state=None, solver='warn',\n          tol=0.0001, verbose=0, warm_start=False)"
          },
          "metadata": {}
        }
      ]
    },
    {
      "metadata": {
        "trusted": true
      },
      "cell_type": "code",
      "source": "y_pred_logistic = model_logistic.predict(X_test)",
      "execution_count": 22,
      "outputs": []
    },
    {
      "metadata": {
        "trusted": true
      },
      "cell_type": "code",
      "source": "print(confusion_matrix(y_pred_logistic, y_test))",
      "execution_count": 23,
      "outputs": [
        {
          "output_type": "stream",
          "text": "[[320   9]\n [ 11  60]]\n",
          "name": "stdout"
        }
      ]
    },
    {
      "metadata": {
        "trusted": true
      },
      "cell_type": "code",
      "source": "classification_report(y_pred_logistic, y_test)",
      "execution_count": 24,
      "outputs": [
        {
          "output_type": "execute_result",
          "execution_count": 24,
          "data": {
            "text/plain": "'              precision    recall  f1-score   support\\n\\n           0       0.97      0.97      0.97       329\\n           1       0.87      0.85      0.86        71\\n\\n   micro avg       0.95      0.95      0.95       400\\n   macro avg       0.92      0.91      0.91       400\\nweighted avg       0.95      0.95      0.95       400\\n'"
          },
          "metadata": {}
        }
      ]
    },
    {
      "metadata": {
        "trusted": true
      },
      "cell_type": "code",
      "source": "print(classification_report(y_pred_logistic, y_test))",
      "execution_count": 25,
      "outputs": [
        {
          "output_type": "stream",
          "text": "              precision    recall  f1-score   support\n\n           0       0.97      0.97      0.97       329\n           1       0.87      0.85      0.86        71\n\n   micro avg       0.95      0.95      0.95       400\n   macro avg       0.92      0.91      0.91       400\nweighted avg       0.95      0.95      0.95       400\n\n",
          "name": "stdout"
        }
      ]
    },
    {
      "metadata": {
        "trusted": true
      },
      "cell_type": "code",
      "source": "accuracy_score(y_pred_logistic, y_test)",
      "execution_count": 26,
      "outputs": [
        {
          "output_type": "execute_result",
          "execution_count": 26,
          "data": {
            "text/plain": "0.95"
          },
          "metadata": {}
        }
      ]
    },
    {
      "metadata": {
        "trusted": true
      },
      "cell_type": "code",
      "source": "print(\"Accuracy of Logistic Model is\",(accuracy_score(y_pred_logistic, y_test)*100),\"%\")",
      "execution_count": 27,
      "outputs": [
        {
          "output_type": "stream",
          "text": "Accuracy of Logistic Model is 95.0 %\n",
          "name": "stdout"
        }
      ]
    },
    {
      "metadata": {},
      "cell_type": "markdown",
      "source": "### Accuracy of Logistic Model is 95.0%"
    },
    {
      "metadata": {},
      "cell_type": "markdown",
      "source": "## Decision Tree Model"
    },
    {
      "metadata": {
        "trusted": true
      },
      "cell_type": "code",
      "source": "model_decision = DecisionTreeClassifier()",
      "execution_count": 28,
      "outputs": []
    },
    {
      "metadata": {
        "trusted": true
      },
      "cell_type": "code",
      "source": "model_decision.fit(X_train,y_train)",
      "execution_count": 29,
      "outputs": [
        {
          "output_type": "execute_result",
          "execution_count": 29,
          "data": {
            "text/plain": "DecisionTreeClassifier(class_weight=None, criterion='gini', max_depth=None,\n            max_features=None, max_leaf_nodes=None,\n            min_impurity_decrease=0.0, min_impurity_split=None,\n            min_samples_leaf=1, min_samples_split=2,\n            min_weight_fraction_leaf=0.0, presort=False, random_state=None,\n            splitter='best')"
          },
          "metadata": {}
        }
      ]
    },
    {
      "metadata": {
        "trusted": true
      },
      "cell_type": "code",
      "source": "y_pred_decision = model_decision.predict(X_test)",
      "execution_count": 30,
      "outputs": []
    },
    {
      "metadata": {
        "trusted": true
      },
      "cell_type": "code",
      "source": "print(classification_report(y_pred_decision, y_test))",
      "execution_count": 31,
      "outputs": [
        {
          "output_type": "stream",
          "text": "              precision    recall  f1-score   support\n\n           0       1.00      0.99      1.00       333\n           1       0.97      1.00      0.99        67\n\n   micro avg       0.99      0.99      0.99       400\n   macro avg       0.99      1.00      0.99       400\nweighted avg       1.00      0.99      1.00       400\n\n",
          "name": "stdout"
        }
      ]
    },
    {
      "metadata": {
        "trusted": true
      },
      "cell_type": "code",
      "source": "confusion_matrix(y_pred_decision, y_test)",
      "execution_count": 32,
      "outputs": [
        {
          "output_type": "execute_result",
          "execution_count": 32,
          "data": {
            "text/plain": "array([[331,   2],\n       [  0,  67]])"
          },
          "metadata": {}
        }
      ]
    },
    {
      "metadata": {
        "trusted": true
      },
      "cell_type": "code",
      "source": "accuracy_score(y_pred_decision, y_test)",
      "execution_count": 33,
      "outputs": [
        {
          "output_type": "execute_result",
          "execution_count": 33,
          "data": {
            "text/plain": "0.995"
          },
          "metadata": {}
        }
      ]
    },
    {
      "metadata": {
        "trusted": true
      },
      "cell_type": "code",
      "source": "print(\"Accuracy of Decision Tree Model is\",(accuracy_score(y_pred_decision, y_test)*100),\"%\")",
      "execution_count": 34,
      "outputs": [
        {
          "output_type": "stream",
          "text": "Accuracy of Decision Tree Model is 99.5 %\n",
          "name": "stdout"
        }
      ]
    },
    {
      "metadata": {},
      "cell_type": "markdown",
      "source": "### Accuracy of Decision Tree Model is 99.5%"
    },
    {
      "metadata": {},
      "cell_type": "markdown",
      "source": "## Bagging Ensemble Model (To reduce Variance or Noise or Complexity)"
    },
    {
      "metadata": {
        "trusted": true
      },
      "cell_type": "code",
      "source": "model_bagging = BaggingClassifier()",
      "execution_count": 35,
      "outputs": []
    },
    {
      "metadata": {
        "trusted": true
      },
      "cell_type": "code",
      "source": "model_bagging.fit(X_train, y_train)",
      "execution_count": 36,
      "outputs": [
        {
          "output_type": "execute_result",
          "execution_count": 36,
          "data": {
            "text/plain": "BaggingClassifier(base_estimator=None, bootstrap=True,\n         bootstrap_features=False, max_features=1.0, max_samples=1.0,\n         n_estimators=10, n_jobs=None, oob_score=False, random_state=None,\n         verbose=0, warm_start=False)"
          },
          "metadata": {}
        }
      ]
    },
    {
      "metadata": {
        "trusted": true
      },
      "cell_type": "code",
      "source": "y_pred_bagging = model_bagging.predict(X_test)",
      "execution_count": 37,
      "outputs": []
    },
    {
      "metadata": {
        "trusted": true
      },
      "cell_type": "code",
      "source": "print(classification_report(y_pred_bagging, y_test))",
      "execution_count": 38,
      "outputs": [
        {
          "output_type": "stream",
          "text": "              precision    recall  f1-score   support\n\n           0       1.00      0.99      1.00       333\n           1       0.97      1.00      0.99        67\n\n   micro avg       0.99      0.99      0.99       400\n   macro avg       0.99      1.00      0.99       400\nweighted avg       1.00      0.99      1.00       400\n\n",
          "name": "stdout"
        }
      ]
    },
    {
      "metadata": {
        "trusted": true
      },
      "cell_type": "code",
      "source": "print(confusion_matrix(y_pred_bagging, y_test))",
      "execution_count": 39,
      "outputs": [
        {
          "output_type": "stream",
          "text": "[[331   2]\n [  0  67]]\n",
          "name": "stdout"
        }
      ]
    },
    {
      "metadata": {
        "trusted": true
      },
      "cell_type": "code",
      "source": "accuracy_score(y_pred_bagging, y_test)",
      "execution_count": 40,
      "outputs": [
        {
          "output_type": "execute_result",
          "execution_count": 40,
          "data": {
            "text/plain": "0.995"
          },
          "metadata": {}
        }
      ]
    },
    {
      "metadata": {
        "trusted": true
      },
      "cell_type": "code",
      "source": "print(\"Accuracy of Bagging Ensemble Model is\",(accuracy_score(y_pred_bagging, y_test)*100),\"%\")",
      "execution_count": 41,
      "outputs": [
        {
          "output_type": "stream",
          "text": "Accuracy of Bagging Ensemble Model is 99.5 %\n",
          "name": "stdout"
        }
      ]
    },
    {
      "metadata": {},
      "cell_type": "markdown",
      "source": "### Accuracy of Bagging Ensemble Model is 99.50%"
    },
    {
      "metadata": {},
      "cell_type": "markdown",
      "source": "## Random Forest Model"
    },
    {
      "metadata": {
        "trusted": true
      },
      "cell_type": "code",
      "source": "model_random = RandomForestClassifier(n_estimators=100)",
      "execution_count": 42,
      "outputs": []
    },
    {
      "metadata": {
        "trusted": true,
        "scrolled": true
      },
      "cell_type": "code",
      "source": "model_random.fit(X_train, y_train)",
      "execution_count": 43,
      "outputs": [
        {
          "output_type": "execute_result",
          "execution_count": 43,
          "data": {
            "text/plain": "RandomForestClassifier(bootstrap=True, class_weight=None, criterion='gini',\n            max_depth=None, max_features='auto', max_leaf_nodes=None,\n            min_impurity_decrease=0.0, min_impurity_split=None,\n            min_samples_leaf=1, min_samples_split=2,\n            min_weight_fraction_leaf=0.0, n_estimators=100, n_jobs=None,\n            oob_score=False, random_state=None, verbose=0,\n            warm_start=False)"
          },
          "metadata": {}
        }
      ]
    },
    {
      "metadata": {
        "trusted": true
      },
      "cell_type": "code",
      "source": "y_pred_random = model_random.predict(X_test)",
      "execution_count": 44,
      "outputs": []
    },
    {
      "metadata": {
        "trusted": true
      },
      "cell_type": "code",
      "source": "print(classification_report(y_pred_random, y_test))",
      "execution_count": 45,
      "outputs": [
        {
          "output_type": "stream",
          "text": "              precision    recall  f1-score   support\n\n           0       1.00      0.99      1.00       333\n           1       0.97      1.00      0.99        67\n\n   micro avg       0.99      0.99      0.99       400\n   macro avg       0.99      1.00      0.99       400\nweighted avg       1.00      0.99      1.00       400\n\n",
          "name": "stdout"
        }
      ]
    },
    {
      "metadata": {
        "trusted": true
      },
      "cell_type": "code",
      "source": "print(confusion_matrix(y_pred_random, y_test))",
      "execution_count": 46,
      "outputs": [
        {
          "output_type": "stream",
          "text": "[[331   2]\n [  0  67]]\n",
          "name": "stdout"
        }
      ]
    },
    {
      "metadata": {
        "trusted": true
      },
      "cell_type": "code",
      "source": "accuracy_score(y_pred_random, y_test)",
      "execution_count": 47,
      "outputs": [
        {
          "output_type": "execute_result",
          "execution_count": 47,
          "data": {
            "text/plain": "0.995"
          },
          "metadata": {}
        }
      ]
    },
    {
      "metadata": {
        "trusted": true
      },
      "cell_type": "code",
      "source": "print(\"Accuracy of Random Forest Model is\",(accuracy_score(y_pred_random, y_test)*100),\"%\")",
      "execution_count": 48,
      "outputs": [
        {
          "output_type": "stream",
          "text": "Accuracy of Random Forest Model is 99.5 %\n",
          "name": "stdout"
        }
      ]
    },
    {
      "metadata": {},
      "cell_type": "markdown",
      "source": "### Accuracy of Random Forest Model is 99.5 %"
    },
    {
      "metadata": {},
      "cell_type": "markdown",
      "source": "## Support Vector Machine Model"
    },
    {
      "metadata": {
        "trusted": true
      },
      "cell_type": "code",
      "source": "model_svm = svm.SVC()",
      "execution_count": 49,
      "outputs": []
    },
    {
      "metadata": {
        "trusted": true
      },
      "cell_type": "code",
      "source": "model_svm.fit(X_train,y_train)",
      "execution_count": 50,
      "outputs": [
        {
          "output_type": "execute_result",
          "execution_count": 50,
          "data": {
            "text/plain": "SVC(C=1.0, cache_size=200, class_weight=None, coef0=0.0,\n  decision_function_shape='ovr', degree=3, gamma='auto_deprecated',\n  kernel='rbf', max_iter=-1, probability=False, random_state=None,\n  shrinking=True, tol=0.001, verbose=False)"
          },
          "metadata": {}
        }
      ]
    },
    {
      "metadata": {
        "trusted": true
      },
      "cell_type": "code",
      "source": "y_pred_svm = model_svm.predict(X_test)",
      "execution_count": 51,
      "outputs": []
    },
    {
      "metadata": {
        "trusted": true
      },
      "cell_type": "code",
      "source": "print(classification_report(y_pred_svm, y_test))",
      "execution_count": 52,
      "outputs": [
        {
          "output_type": "stream",
          "text": "              precision    recall  f1-score   support\n\n           0       0.99      0.99      0.99       331\n           1       0.94      0.94      0.94        69\n\n   micro avg       0.98      0.98      0.98       400\n   macro avg       0.96      0.96      0.96       400\nweighted avg       0.98      0.98      0.98       400\n\n",
          "name": "stdout"
        }
      ]
    },
    {
      "metadata": {
        "trusted": true
      },
      "cell_type": "code",
      "source": "print(confusion_matrix(y_pred_svm, y_test))",
      "execution_count": 53,
      "outputs": [
        {
          "output_type": "stream",
          "text": "[[327   4]\n [  4  65]]\n",
          "name": "stdout"
        }
      ]
    },
    {
      "metadata": {
        "trusted": true
      },
      "cell_type": "code",
      "source": "accuracy_score(y_pred_svm, y_test)",
      "execution_count": 54,
      "outputs": [
        {
          "output_type": "execute_result",
          "execution_count": 54,
          "data": {
            "text/plain": "0.98"
          },
          "metadata": {}
        }
      ]
    },
    {
      "metadata": {
        "trusted": true
      },
      "cell_type": "code",
      "source": "print(\"Accuracy of Supprt vector Machine Model is\",(accuracy_score(y_pred_svm, y_test)*100),\"%\")",
      "execution_count": 55,
      "outputs": [
        {
          "output_type": "stream",
          "text": "Accuracy of Supprt vector Machine Model is 98.0 %\n",
          "name": "stdout"
        }
      ]
    },
    {
      "metadata": {},
      "cell_type": "markdown",
      "source": "### Accuracy of Supprt vector Machine Model is 98.0 %"
    },
    {
      "metadata": {},
      "cell_type": "markdown",
      "source": "## XG Boosting Ensemble Model"
    },
    {
      "metadata": {
        "trusted": true
      },
      "cell_type": "code",
      "source": "!pip install xgboost",
      "execution_count": 56,
      "outputs": [
        {
          "output_type": "stream",
          "text": "Requirement already satisfied: xgboost in /home/nbuser/anaconda3_501/lib/python3.6/site-packages (1.1.1)\nRequirement already satisfied: numpy in /home/nbuser/anaconda3_501/lib/python3.6/site-packages (from xgboost) (1.16.2)\nRequirement already satisfied: scipy in /home/nbuser/anaconda3_501/lib/python3.6/site-packages (from xgboost) (1.1.0)\n\u001b[33mWARNING: You are using pip version 19.3.1; however, version 20.1.1 is available.\nYou should consider upgrading via the 'pip install --upgrade pip' command.\u001b[0m\n",
          "name": "stdout"
        }
      ]
    },
    {
      "metadata": {
        "trusted": true
      },
      "cell_type": "code",
      "source": "pip install --upgrade pip",
      "execution_count": 57,
      "outputs": [
        {
          "output_type": "stream",
          "text": "\nThe following command must be run outside of the IPython shell:\n\n    $ pip install --upgrade pip\n\nThe Python package manager (pip) can only be used from outside of IPython.\nPlease reissue the `pip` command in a separate terminal or command prompt.\n\nSee the Python documentation for more information on how to install packages:\n\n    https://docs.python.org/3/installing/\n",
          "name": "stdout"
        }
      ]
    },
    {
      "metadata": {
        "trusted": true
      },
      "cell_type": "code",
      "source": "import xgboost as xgb\nfrom xgboost import XGBClassifier",
      "execution_count": 58,
      "outputs": []
    },
    {
      "metadata": {
        "trusted": true
      },
      "cell_type": "code",
      "source": "model_xgb = XGBClassifier()",
      "execution_count": 59,
      "outputs": []
    },
    {
      "metadata": {
        "trusted": true
      },
      "cell_type": "code",
      "source": "model_xgb.fit(X_train, y_train)",
      "execution_count": 60,
      "outputs": [
        {
          "output_type": "execute_result",
          "execution_count": 60,
          "data": {
            "text/plain": "XGBClassifier(base_score=0.5, booster='gbtree', colsample_bylevel=1,\n       colsample_bynode=1, colsample_bytree=1, gamma=0, gpu_id=-1,\n       importance_type='gain', interaction_constraints='',\n       learning_rate=0.300000012, max_delta_step=0, max_depth=6,\n       min_child_weight=1, missing=nan, monotone_constraints='()',\n       n_estimators=100, n_jobs=0, num_parallel_tree=1,\n       objective='binary:logistic', random_state=0, reg_alpha=0,\n       reg_lambda=1, scale_pos_weight=1, subsample=1, tree_method='exact',\n       validate_parameters=1, verbosity=None)"
          },
          "metadata": {}
        }
      ]
    },
    {
      "metadata": {
        "trusted": true
      },
      "cell_type": "code",
      "source": "y_pred_xgb = model_xgb.predict(X_test)",
      "execution_count": 61,
      "outputs": []
    },
    {
      "metadata": {
        "trusted": true
      },
      "cell_type": "code",
      "source": "print(classification_report(y_pred_xgb, y_test))",
      "execution_count": 62,
      "outputs": [
        {
          "output_type": "stream",
          "text": "              precision    recall  f1-score   support\n\n           0       1.00      0.99      1.00       333\n           1       0.97      1.00      0.99        67\n\n   micro avg       0.99      0.99      0.99       400\n   macro avg       0.99      1.00      0.99       400\nweighted avg       1.00      0.99      1.00       400\n\n",
          "name": "stdout"
        }
      ]
    },
    {
      "metadata": {
        "trusted": true
      },
      "cell_type": "code",
      "source": "print(confusion_matrix(y_pred_xgb, y_test))",
      "execution_count": 63,
      "outputs": [
        {
          "output_type": "stream",
          "text": "[[331   2]\n [  0  67]]\n",
          "name": "stdout"
        }
      ]
    },
    {
      "metadata": {
        "trusted": true
      },
      "cell_type": "code",
      "source": "accuracy_score(y_pred_xgb, y_test)",
      "execution_count": 64,
      "outputs": [
        {
          "output_type": "execute_result",
          "execution_count": 64,
          "data": {
            "text/plain": "0.995"
          },
          "metadata": {}
        }
      ]
    },
    {
      "metadata": {
        "trusted": true
      },
      "cell_type": "code",
      "source": "print(\"Accuracy of XG Boost Model is\",(accuracy_score(y_pred_xgb, y_test)*100),\"%\")",
      "execution_count": 65,
      "outputs": [
        {
          "output_type": "stream",
          "text": "Accuracy of XG Boost Model is 99.5 %\n",
          "name": "stdout"
        }
      ]
    },
    {
      "metadata": {},
      "cell_type": "markdown",
      "source": "### Accuracy of XG Boost Model is 99.5 %"
    },
    {
      "metadata": {},
      "cell_type": "markdown",
      "source": "## K Nearest Neighbors Model"
    },
    {
      "metadata": {
        "trusted": true
      },
      "cell_type": "code",
      "source": "model_knn = KNeighborsClassifier(n_neighbors = 20, p=2,  metric='euclidean')",
      "execution_count": 66,
      "outputs": []
    },
    {
      "metadata": {
        "trusted": true
      },
      "cell_type": "code",
      "source": "import math\nmath.sqrt(len(y_test))",
      "execution_count": 67,
      "outputs": [
        {
          "output_type": "execute_result",
          "execution_count": 67,
          "data": {
            "text/plain": "20.0"
          },
          "metadata": {}
        }
      ]
    },
    {
      "metadata": {
        "trusted": true
      },
      "cell_type": "code",
      "source": "model_knn.fit(X_train, y_train)",
      "execution_count": 68,
      "outputs": [
        {
          "output_type": "execute_result",
          "execution_count": 68,
          "data": {
            "text/plain": "KNeighborsClassifier(algorithm='auto', leaf_size=30, metric='euclidean',\n           metric_params=None, n_jobs=None, n_neighbors=20, p=2,\n           weights='uniform')"
          },
          "metadata": {}
        }
      ]
    },
    {
      "metadata": {
        "trusted": true
      },
      "cell_type": "code",
      "source": "y_pred_knn = model_knn.predict(X_test)",
      "execution_count": 69,
      "outputs": []
    },
    {
      "metadata": {
        "trusted": true
      },
      "cell_type": "code",
      "source": "print(classification_report(y_pred_knn, y_test))",
      "execution_count": 70,
      "outputs": [
        {
          "output_type": "stream",
          "text": "              precision    recall  f1-score   support\n\n           0       1.00      0.98      0.99       338\n           1       0.88      0.98      0.93        62\n\n   micro avg       0.98      0.98      0.98       400\n   macro avg       0.94      0.98      0.96       400\nweighted avg       0.98      0.98      0.98       400\n\n",
          "name": "stdout"
        }
      ]
    },
    {
      "metadata": {
        "trusted": true
      },
      "cell_type": "code",
      "source": "print(confusion_matrix(y_pred_knn, y_test))",
      "execution_count": 71,
      "outputs": [
        {
          "output_type": "stream",
          "text": "[[330   8]\n [  1  61]]\n",
          "name": "stdout"
        }
      ]
    },
    {
      "metadata": {
        "trusted": true
      },
      "cell_type": "code",
      "source": "accuracy_score(y_pred_knn, y_test)",
      "execution_count": 72,
      "outputs": [
        {
          "output_type": "execute_result",
          "execution_count": 72,
          "data": {
            "text/plain": "0.9775"
          },
          "metadata": {}
        }
      ]
    },
    {
      "metadata": {
        "trusted": true
      },
      "cell_type": "code",
      "source": "print(\"Accuracy of K Nearest Neighbors Model is\",(accuracy_score(y_pred_knn, y_test)*100),\"%\")",
      "execution_count": 73,
      "outputs": [
        {
          "output_type": "stream",
          "text": "Accuracy of K Nearest Neighbors Model is 97.75 %\n",
          "name": "stdout"
        }
      ]
    },
    {
      "metadata": {},
      "cell_type": "markdown",
      "source": "### Accuracy of K Nearest Neighbors Model is 97.75 %"
    },
    {
      "metadata": {
        "trusted": true
      },
      "cell_type": "code",
      "source": "print(\"Accuracy of Logistic Model is\",(accuracy_score(y_pred_logistic, y_test)*100),\"%\")\nprint(\"Accuracy of Decision Tree Model is\",(accuracy_score(y_pred_decision, y_test)*100),\"%\")\nprint(\"Accuracy of Bagging Ensemble Model is\",(accuracy_score(y_pred_bagging, y_test)*100),\"%\")\nprint(\"Accuracy of Random Forest Model is\",(accuracy_score(y_pred_random, y_test)*100),\"%\")\nprint(\"Accuracy of Supprt vector Machine Model is\",(accuracy_score(y_pred_svm, y_test)*100),\"%\")\nprint(\"Accuracy of XG Boost Model is\",(accuracy_score(y_pred_xgb, y_test)*100),\"%\")\nprint(\"Accuracy of K Nearest Neighbors Model is\",(accuracy_score(y_pred_knn, y_test)*100),\"%\")",
      "execution_count": 74,
      "outputs": [
        {
          "output_type": "stream",
          "text": "Accuracy of Logistic Model is 95.0 %\nAccuracy of Decision Tree Model is 99.5 %\nAccuracy of Bagging Ensemble Model is 99.5 %\nAccuracy of Random Forest Model is 99.5 %\nAccuracy of Supprt vector Machine Model is 98.0 %\nAccuracy of XG Boost Model is 99.5 %\nAccuracy of K Nearest Neighbors Model is 97.75 %\n",
          "name": "stdout"
        }
      ]
    },
    {
      "metadata": {},
      "cell_type": "markdown",
      "source": "### Accuracy of Logistic Model is 95.0 %\n### Accuracy of K Nearest Neighbors Model is 97.75 %\n### Accuracy of Supprt vector Machine Model is 98.0 %\n### Accuracy of Decision Tree Model is 99.5 %\n### Accuracy of Bagging Ensemble Model is 99.5 %\n### Accuracy of XG Boost Model is 99.5 %\n## Accuracy of Random Forest Model is 99.75 %. So we will prefer this as Best Model with High Accuracy."
    }
  ],
  "metadata": {
    "kernelspec": {
      "name": "python36",
      "display_name": "Python 3.6",
      "language": "python"
    },
    "language_info": {
      "mimetype": "text/x-python",
      "nbconvert_exporter": "python",
      "name": "python",
      "pygments_lexer": "ipython3",
      "version": "3.6.6",
      "file_extension": ".py",
      "codemirror_mode": {
        "version": 3,
        "name": "ipython"
      }
    }
  },
  "nbformat": 4,
  "nbformat_minor": 2
}